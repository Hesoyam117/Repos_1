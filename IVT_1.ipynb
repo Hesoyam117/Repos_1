{
 "cells": [
  {
   "cell_type": "markdown",
   "id": "2608bdac",
   "metadata": {},
   "source": [
    "$\\textbf{Курс \"Физика, ИВТ, четвёртый семестр (2022)\"}$"
   ]
  },
  {
   "cell_type": "markdown",
   "id": "b83df85e",
   "metadata": {},
   "source": [
    "$\\textbf{Лекция 1. Понятие квантования}$"
   ]
  },
  {
   "cell_type": "markdown",
   "id": "88573131",
   "metadata": {},
   "source": [
    "$\\underline{\\textsf{Вопросы.}}$\n",
    "\n",
    "$\\bullet\\textit{ Дискретность материи}$\n",
    "\n",
    "$\\bullet \\textit{ Квантование электрического заряда}$\n",
    "\n",
    "$\\bullet \\textit{ Квантование излучения (фотоны)}$"
   ]
  },
  {
   "cell_type": "markdown",
   "id": "89a59c4f",
   "metadata": {},
   "source": [
    "$\\textit{1}^\\circ.\\textit{ Дискретность материи.}$"
   ]
  },
  {
   "cell_type": "markdown",
   "id": "bc77e617",
   "metadata": {},
   "source": [
    "450 г.до н.э. - Демокрит, Левкипп : материя состоит из мельчайших частиц.\n",
    "\n",
    "1811 г. Авогадро : в равных объёмах различных газов при одинаковой температуре содержится одинаковое количество молекул.\n",
    "\n",
    "Дискретность материи экспериментально подтверждается методами электронной микроскопии."
   ]
  },
  {
   "cell_type": "markdown",
   "id": "26c384ed",
   "metadata": {},
   "source": [
    "$\\textit{2}^\\circ.\\textit{ Квантование электрического заряда.}$"
   ]
  },
  {
   "cell_type": "markdown",
   "id": "823edf6b",
   "metadata": {},
   "source": [
    "<img src=\"IVT_1Fig1.png\" />"
   ]
  },
  {
   "cell_type": "markdown",
   "id": "41c876ca",
   "metadata": {},
   "source": [
    "1833 г. М.Фарадей : законы электролиза.\n",
    "\\begin{equation}\n",
    "F = N_A\\cdot e \\quad (2.1).\n",
    "\\end{equation}\n",
    "\\begin{equation}\n",
    "F = 96485 \\text{ Кл}\\cdot\\text{моль}^{-1};\\quad \n",
    "N_A = 6,02\\cdot 10^{23}\\text{моль}^{-1};\\quad e = 1,6\\cdot 10^{-19} \\text{Кл}\\quad (2.2).\n",
    "\\end{equation}\n",
    "\\begin{equation}\n",
    "\\tfrac{e}{m} = 1,759\\cdot 10^{11} \\text{Кл/кг}\\quad (2.3).\n",
    "\\end{equation}"
   ]
  },
  {
   "cell_type": "markdown",
   "id": "b5ea254c",
   "metadata": {},
   "source": [
    "$\\textit{1}^\\circ.\\textit{ Квантование излучения (фотоны).}$"
   ]
  },
  {
   "cell_type": "markdown",
   "id": "af171753",
   "metadata": {},
   "source": [
    "Фотоэффект - вырывание электронов из вещества под действием электромагнитного излучения."
   ]
  },
  {
   "cell_type": "markdown",
   "id": "4b0f5b32",
   "metadata": {},
   "source": [
    "<img src=\"IVT_1Fig2.png\" />"
   ]
  },
  {
   "cell_type": "markdown",
   "id": "1dac0278",
   "metadata": {},
   "source": [
    "<img src=\"IVT_1Fig3.png\" />"
   ]
  },
  {
   "cell_type": "markdown",
   "id": "16c1cc5e",
   "metadata": {},
   "source": [
    "\\begin{equation}\n",
    "m\\ddot{x} = eE\\cos(\\omega t) \\quad (3.1).\n",
    "\\end{equation}\n",
    "\\begin{equation}\n",
    "mv = \\tfrac{eE}{\\omega}\\sin(\\omega t) \\quad (3.2).\n",
    "\\end{equation}\n",
    "\\begin{equation}\n",
    "K_{max} = \\tfrac{mv_{max}^2}{2} =\n",
    "\\tfrac{1}{2m}\\left(\\tfrac{eE}{\\omega}\\right)^2\\sin^2(\\omega t) \\quad (3.3).\n",
    "\\end{equation}\n"
   ]
  },
  {
   "cell_type": "markdown",
   "id": "adff9339",
   "metadata": {},
   "source": [
    "1905 г. Эйнштейн;\n",
    "\\begin{equation}\n",
    "\\varepsilon = \\hbar\\omega \\quad \\text{ (формула Планка)}\\quad (3.4).\n",
    "\\end{equation}\n",
    "\\begin{equation}\n",
    "\\hbar = 1,05\\cdot 10^{-34}\\text{Дж}\\cdot\\text{с}\\quad (3.5).\n",
    "\\end{equation}\n",
    "\\begin{equation}\n",
    "\\hbar\\omega = A + K_{max} \\quad \\text{ (уравнение Эйнштейна)}\\quad (3.6).\n",
    "\\end{equation}\n",
    "\\begin{equation}\n",
    "\\omega_0 = \\tfrac{A}{\\hbar} \\quad \\text{ (\"красная граница\")}\\quad (3.7).\n",
    "\\end{equation}\n",
    "\\begin{equation}\n",
    "p = \\tfrac{2\\pi\\hbar}{\\lambda} \\quad \\text{ (импульс фотона)}\\quad (3.8).\n",
    "\\end{equation}"
   ]
  },
  {
   "cell_type": "markdown",
   "id": "3951fd18",
   "metadata": {},
   "source": [
    "<img src=\"IVT_1Fig4.png\" />"
   ]
  },
  {
   "cell_type": "markdown",
   "id": "4ecc2784",
   "metadata": {},
   "source": [
    "$\\underline{\\textsf{Основные  выводы.}}$\n",
    "\n",
    "$\\triangleright \\textsf{ Рассмотрено понятие квантования - материи, заряда, излучения.}$"
   ]
  },
  {
   "cell_type": "markdown",
   "id": "ce05da80",
   "metadata": {},
   "source": [
    "Номера задач к занятию 1 по практике.\n",
    "5.1.; 5.2.; 5.3.; 5.18.; 5.19.; 5.20..\n",
    "(Иродов И.Е. Задачи по общей физике. 10-е изд.2014)"
   ]
  }
 ],
 "metadata": {
  "kernelspec": {
   "display_name": "Python 3",
   "language": "python",
   "name": "python3"
  },
  "language_info": {
   "codemirror_mode": {
    "name": "ipython",
    "version": 3
   },
   "file_extension": ".py",
   "mimetype": "text/x-python",
   "name": "python",
   "nbconvert_exporter": "python",
   "pygments_lexer": "ipython3",
   "version": "3.8.8"
  }
 },
 "nbformat": 4,
 "nbformat_minor": 5
}
