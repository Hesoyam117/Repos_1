{
 "cells": [
  {
   "attachments": {},
   "cell_type": "markdown",
   "metadata": {},
   "source": [
    "# Задание 1. Работа с Pandas, анализ и обработка данных.\n",
    "\n",
    "В этом задании вам предстоит поработать с библиотекой Pandas, предназначенной для удобного анализа и обработки данных.\n",
    "\n",
    "**Датасет**: данные о землетрясениях с 01.01.2001 по 01.01.2023 в разных частях мира. [Ссылка](https://www.kaggle.com/datasets/warcoder/earthquake-dataset) на датасет.\n",
    "\n",
    "**Описание признаков:**\n",
    "- `title`: название землетрясения\n",
    "- `magnitude`: магнитуда\n",
    "- `date_time`: дата и время\n",
    "- `cdi`: максимальная заявленная интенсивность\n",
    "- `mmi`: максимальная предполагаемая интенсивность, зафиксированная приборами\n",
    "- `alert`: уровень опасности/тревоги/оповещения\n",
    "- `tsunami`: \"1\" для землетрясения в океанском регионе и \"0\" в остальных случаях\n",
    "- `sig`: число показывающее, насколько \"значимым\" было землетрясение. Складывается из магнитуды, максимальной интенсивности, ущерба и т.д.\n",
    "- `net`: ID источника информации\n",
    "- `nst`: количество сейсмических станций, которые использовались для определения расположения землетрясения\n",
    "- `dmin`: горизонтальное расстояние от эпицентра до ближайшей станции\n",
    "- `gap`: наибольший азимутальный зазор между соседними по азимуту станциями (подробности см. на странице датасета)\n",
    "- `magType`: метод или алгоритм, используемый для расчета магнитуды\n",
    "- `depth`: глубина\n",
    "- `latitude/longitude`: широта/долгота\n",
    "- `location`: место внутри страны\n",
    "- `continent`: континент\n",
    "- `country`: пострадавшая страна\n",
    "\n",
    "\n",
    "Полезные ресурсы:\n",
    "- [Документация pandas](https://pandas.pydata.org/docs/)\n",
    "- [Шпаргалка по Pandas](https://pandas.pydata.org/Pandas_Cheat_Sheet.pdf)\n",
    "- [Мини-курс](https://www.kaggle.com/learn/pandas) по pandas на Kaggle\n",
    "\n",
    "**Замечание**: старайтесь избегать лишних циклов при работе с данными. Pandas содержит множество функций и методов, с помощью которых можно решить проблему красиво и лаконично."
   ]
  },
  {
   "attachments": {},
   "cell_type": "markdown",
   "metadata": {},
   "source": [
    "- Импортируйте необходимые библиотеки и загрузите данные (файл `AllSatellites.csv`) с помощью pandas. Удостоверьтесь, что тип переменной - `Dataframe`"
   ]
  },
  {
   "cell_type": "code",
   "execution_count": 1,
   "metadata": {},
   "outputs": [
    {
     "data": {
      "text/plain": [
       "pandas.core.frame.DataFrame"
      ]
     },
     "execution_count": 1,
     "metadata": {},
     "output_type": "execute_result"
    }
   ],
   "source": [
    "import pandas as pd\n",
    "import numpy as np\n",
    "\n",
    "df_orig = pd.read_csv(\"earthquake_data.csv\")\n",
    "type(df_orig)"
   ]
  },
  {
   "attachments": {},
   "cell_type": "markdown",
   "metadata": {},
   "source": [
    "- Отобразите первые 5 строк с помощью метода `head`"
   ]
  },
  {
   "cell_type": "code",
   "execution_count": 2,
   "metadata": {},
   "outputs": [
    {
     "data": {
      "text/html": [
       "<div>\n",
       "<style scoped>\n",
       "    .dataframe tbody tr th:only-of-type {\n",
       "        vertical-align: middle;\n",
       "    }\n",
       "\n",
       "    .dataframe tbody tr th {\n",
       "        vertical-align: top;\n",
       "    }\n",
       "\n",
       "    .dataframe thead th {\n",
       "        text-align: right;\n",
       "    }\n",
       "</style>\n",
       "<table border=\"1\" class=\"dataframe\">\n",
       "  <thead>\n",
       "    <tr style=\"text-align: right;\">\n",
       "      <th></th>\n",
       "      <th>title</th>\n",
       "      <th>magnitude</th>\n",
       "      <th>date_time</th>\n",
       "      <th>cdi</th>\n",
       "      <th>mmi</th>\n",
       "      <th>alert</th>\n",
       "      <th>tsunami</th>\n",
       "      <th>sig</th>\n",
       "      <th>net</th>\n",
       "      <th>nst</th>\n",
       "      <th>dmin</th>\n",
       "      <th>gap</th>\n",
       "      <th>magType</th>\n",
       "      <th>depth</th>\n",
       "      <th>latitude</th>\n",
       "      <th>longitude</th>\n",
       "      <th>location</th>\n",
       "      <th>continent</th>\n",
       "      <th>country</th>\n",
       "    </tr>\n",
       "  </thead>\n",
       "  <tbody>\n",
       "    <tr>\n",
       "      <th>0</th>\n",
       "      <td>M 7.0 - 18 km SW of Malango, Solomon Islands</td>\n",
       "      <td>7.0</td>\n",
       "      <td>22-11-2022 02:03</td>\n",
       "      <td>8</td>\n",
       "      <td>7</td>\n",
       "      <td>green</td>\n",
       "      <td>1</td>\n",
       "      <td>768</td>\n",
       "      <td>us</td>\n",
       "      <td>117</td>\n",
       "      <td>0.509</td>\n",
       "      <td>17.0</td>\n",
       "      <td>mww</td>\n",
       "      <td>14.000</td>\n",
       "      <td>-9.7963</td>\n",
       "      <td>159.596</td>\n",
       "      <td>Malango, Solomon Islands</td>\n",
       "      <td>Oceania</td>\n",
       "      <td>Solomon Islands</td>\n",
       "    </tr>\n",
       "    <tr>\n",
       "      <th>1</th>\n",
       "      <td>M 6.9 - 204 km SW of Bengkulu, Indonesia</td>\n",
       "      <td>6.9</td>\n",
       "      <td>18-11-2022 13:37</td>\n",
       "      <td>4</td>\n",
       "      <td>4</td>\n",
       "      <td>green</td>\n",
       "      <td>0</td>\n",
       "      <td>735</td>\n",
       "      <td>us</td>\n",
       "      <td>99</td>\n",
       "      <td>2.229</td>\n",
       "      <td>34.0</td>\n",
       "      <td>mww</td>\n",
       "      <td>25.000</td>\n",
       "      <td>-4.9559</td>\n",
       "      <td>100.738</td>\n",
       "      <td>Bengkulu, Indonesia</td>\n",
       "      <td>NaN</td>\n",
       "      <td>NaN</td>\n",
       "    </tr>\n",
       "    <tr>\n",
       "      <th>2</th>\n",
       "      <td>M 7.0 -</td>\n",
       "      <td>7.0</td>\n",
       "      <td>12-11-2022 07:09</td>\n",
       "      <td>3</td>\n",
       "      <td>3</td>\n",
       "      <td>green</td>\n",
       "      <td>1</td>\n",
       "      <td>755</td>\n",
       "      <td>us</td>\n",
       "      <td>147</td>\n",
       "      <td>3.125</td>\n",
       "      <td>18.0</td>\n",
       "      <td>mww</td>\n",
       "      <td>579.000</td>\n",
       "      <td>-20.0508</td>\n",
       "      <td>-178.346</td>\n",
       "      <td>NaN</td>\n",
       "      <td>Oceania</td>\n",
       "      <td>Fiji</td>\n",
       "    </tr>\n",
       "    <tr>\n",
       "      <th>3</th>\n",
       "      <td>M 7.3 - 205 km ESE of Neiafu, Tonga</td>\n",
       "      <td>7.3</td>\n",
       "      <td>11-11-2022 10:48</td>\n",
       "      <td>5</td>\n",
       "      <td>5</td>\n",
       "      <td>green</td>\n",
       "      <td>1</td>\n",
       "      <td>833</td>\n",
       "      <td>us</td>\n",
       "      <td>149</td>\n",
       "      <td>1.865</td>\n",
       "      <td>21.0</td>\n",
       "      <td>mww</td>\n",
       "      <td>37.000</td>\n",
       "      <td>-19.2918</td>\n",
       "      <td>-172.129</td>\n",
       "      <td>Neiafu, Tonga</td>\n",
       "      <td>NaN</td>\n",
       "      <td>NaN</td>\n",
       "    </tr>\n",
       "    <tr>\n",
       "      <th>4</th>\n",
       "      <td>M 6.6 -</td>\n",
       "      <td>6.6</td>\n",
       "      <td>09-11-2022 10:14</td>\n",
       "      <td>0</td>\n",
       "      <td>2</td>\n",
       "      <td>green</td>\n",
       "      <td>1</td>\n",
       "      <td>670</td>\n",
       "      <td>us</td>\n",
       "      <td>131</td>\n",
       "      <td>4.998</td>\n",
       "      <td>27.0</td>\n",
       "      <td>mww</td>\n",
       "      <td>624.464</td>\n",
       "      <td>-25.5948</td>\n",
       "      <td>178.278</td>\n",
       "      <td>NaN</td>\n",
       "      <td>NaN</td>\n",
       "      <td>NaN</td>\n",
       "    </tr>\n",
       "  </tbody>\n",
       "</table>\n",
       "</div>"
      ],
      "text/plain": [
       "                                          title  magnitude         date_time   \n",
       "0  M 7.0 - 18 km SW of Malango, Solomon Islands        7.0  22-11-2022 02:03  \\\n",
       "1      M 6.9 - 204 km SW of Bengkulu, Indonesia        6.9  18-11-2022 13:37   \n",
       "2                                      M 7.0 -         7.0  12-11-2022 07:09   \n",
       "3           M 7.3 - 205 km ESE of Neiafu, Tonga        7.3  11-11-2022 10:48   \n",
       "4                                      M 6.6 -         6.6  09-11-2022 10:14   \n",
       "\n",
       "   cdi  mmi  alert  tsunami  sig net  nst   dmin   gap magType    depth   \n",
       "0    8    7  green        1  768  us  117  0.509  17.0     mww   14.000  \\\n",
       "1    4    4  green        0  735  us   99  2.229  34.0     mww   25.000   \n",
       "2    3    3  green        1  755  us  147  3.125  18.0     mww  579.000   \n",
       "3    5    5  green        1  833  us  149  1.865  21.0     mww   37.000   \n",
       "4    0    2  green        1  670  us  131  4.998  27.0     mww  624.464   \n",
       "\n",
       "   latitude  longitude                  location continent          country  \n",
       "0   -9.7963    159.596  Malango, Solomon Islands   Oceania  Solomon Islands  \n",
       "1   -4.9559    100.738       Bengkulu, Indonesia       NaN              NaN  \n",
       "2  -20.0508   -178.346                       NaN   Oceania             Fiji  \n",
       "3  -19.2918   -172.129             Neiafu, Tonga       NaN              NaN  \n",
       "4  -25.5948    178.278                       NaN       NaN              NaN  "
      ]
     },
     "execution_count": 2,
     "metadata": {},
     "output_type": "execute_result"
    }
   ],
   "source": [
    "df_orig.head(5)"
   ]
  },
  {
   "attachments": {},
   "cell_type": "markdown",
   "metadata": {},
   "source": [
    "- Сколько всего признаков имеется в данных и сколько объектов (землетрясений) в датасете?"
   ]
  },
  {
   "cell_type": "code",
   "execution_count": 3,
   "metadata": {},
   "outputs": [
    {
     "name": "stdout",
     "output_type": "stream",
     "text": [
      "Признаков: 19\n",
      "Объектов: 782\n"
     ]
    }
   ],
   "source": [
    "print(f\"Признаков: {len(df_orig.columns)}\")\n",
    "print(f\"Объектов: {len(df_orig)}\")"
   ]
  },
  {
   "attachments": {},
   "cell_type": "markdown",
   "metadata": {},
   "source": [
    "- Попробуйте отобразить информацию о датасете с помощью метода `describe`. Выведите название (`title`) землетрясения, для регистрации которого использовалось максимальное количество сейсмических станций."
   ]
  },
  {
   "cell_type": "code",
   "execution_count": 4,
   "metadata": {},
   "outputs": [
    {
     "data": {
      "text/plain": [
       "427    M 7.3 - 11 km WNW of San Agustín, Colombia\n",
       "Name: title, dtype: object"
      ]
     },
     "execution_count": 4,
     "metadata": {},
     "output_type": "execute_result"
    }
   ],
   "source": [
    "df_orig.loc[df_orig[\"nst\"] == df_orig[\"nst\"].describe().max()][\"title\"]"
   ]
  },
  {
   "attachments": {},
   "cell_type": "markdown",
   "metadata": {},
   "source": [
    "- Сколько типов \"уровней опасности\" имеется в датасете?"
   ]
  },
  {
   "cell_type": "code",
   "execution_count": 5,
   "metadata": {},
   "outputs": [
    {
     "name": "stdout",
     "output_type": "stream",
     "text": [
      "Всего уровней опасности:  4\n",
      "А именно\n",
      " alert\n",
      "green     325\n",
      "yellow     56\n",
      "orange     22\n",
      "red        12\n",
      "Name: count, dtype: int64\n"
     ]
    }
   ],
   "source": [
    "print(\"Всего уровней опасности: \", len(df_orig[\"alert\"].value_counts()))\n",
    "print(\"А именно\\n\", df_orig[\"alert\"].value_counts())"
   ]
  },
  {
   "attachments": {},
   "cell_type": "markdown",
   "metadata": {},
   "source": [
    "- Найдите, сколько землетрясений было в океанских регионах и сколько на суше."
   ]
  },
  {
   "cell_type": "code",
   "execution_count": 6,
   "metadata": {},
   "outputs": [
    {
     "name": "stdout",
     "output_type": "stream",
     "text": [
      "Землетрясений в океанских регионах:  4\n",
      "Землетрясений на суше :  93\n"
     ]
    }
   ],
   "source": [
    "print(\"Землетрясений в океанских регионах: \", len(df_orig[\"continent\"].loc[df_orig[\"continent\"] == \"Oceania\"]))\n",
    "print(\"Землетрясений на суше : \", len(df_orig.dropna()[\"continent\"].loc[df_orig[\"continent\"] != \"Oceania\"]))"
   ]
  },
  {
   "attachments": {},
   "cell_type": "markdown",
   "metadata": {},
   "source": [
    "- Информация о скольких странах присутствует в наборе данных? Выведите список стран, для которых есть хотя бы один объект с признаком `tsunami == 1` и найдите их количество."
   ]
  },
  {
   "cell_type": "code",
   "execution_count": 7,
   "metadata": {},
   "outputs": [
    {
     "name": "stdout",
     "output_type": "stream",
     "text": [
      "Колличество стран:  26\n",
      "Сами страны:\n",
      " country\n",
      "Papua New Guinea                                              27\n",
      "Indonesia                                                     13\n",
      "Vanuatu                                                       13\n",
      "Solomon Islands                                               10\n",
      "Philippines                                                   10\n",
      "Mexico                                                         9\n",
      "Chile                                                          8\n",
      "Fiji                                                           8\n",
      "Peru                                                           8\n",
      "United States of America                                       7\n",
      "Japan                                                          6\n",
      "Russia                                                         5\n",
      "New Zealand                                                    5\n",
      "United Kingdom of Great Britain and Northern Ireland (the)     4\n",
      "Ecuador                                                        4\n",
      "Antarctica                                                     3\n",
      "Taiwan                                                         3\n",
      "Argentina                                                      2\n",
      "Panama                                                         2\n",
      "Guatemala                                                      1\n",
      "Nicaragua                                                      1\n",
      "Haiti                                                          1\n",
      "Costa Rica                                                     1\n",
      "Venezuela                                                      1\n",
      "South Georgia and the South Sandwich Islands                   1\n",
      "Colombia                                                       1\n",
      "Name: count, dtype: int64\n"
     ]
    }
   ],
   "source": [
    "print(\"Колличество стран: \", len(df_orig.loc[df_orig[\"tsunami\"] == 1][\"country\"].value_counts()))\n",
    "print(\"Сами страны:\\n\", df_orig.loc[df_orig[\"tsunami\"] == 1][\"country\"].value_counts())"
   ]
  },
  {
   "attachments": {},
   "cell_type": "markdown",
   "metadata": {},
   "source": [
    "- Проверьте, есть ли землетрясения с параметром `tsunami == 1` в России? Если есть, выведите название (`title`) любого из них"
   ]
  },
  {
   "cell_type": "code",
   "execution_count": 8,
   "metadata": {},
   "outputs": [
    {
     "data": {
      "text/plain": [
       "406    M 6.6 - 183 km SW of Belaya Gora, Russia\n",
       "Name: title, dtype: object"
      ]
     },
     "execution_count": 8,
     "metadata": {},
     "output_type": "execute_result"
    }
   ],
   "source": [
    "df_orig.loc[(df_orig[\"tsunami\"] == 1) & (df_orig[\"country\"] == \"Russia\")][\"title\"].sample()"
   ]
  },
  {
   "attachments": {},
   "cell_type": "markdown",
   "metadata": {},
   "source": [
    "- Найдите количество пропусков в данных (для каждого признака)"
   ]
  },
  {
   "cell_type": "code",
   "execution_count": 9,
   "metadata": {},
   "outputs": [
    {
     "data": {
      "text/plain": [
       "title          0\n",
       "magnitude      0\n",
       "date_time      0\n",
       "cdi            0\n",
       "mmi            0\n",
       "alert        367\n",
       "tsunami        0\n",
       "sig            0\n",
       "net            0\n",
       "nst            0\n",
       "dmin           0\n",
       "gap            0\n",
       "magType        0\n",
       "depth          0\n",
       "latitude       0\n",
       "longitude      0\n",
       "location       5\n",
       "continent    576\n",
       "country      298\n",
       "dtype: int64"
      ]
     },
     "execution_count": 9,
     "metadata": {},
     "output_type": "execute_result"
    }
   ],
   "source": [
    "df_orig.isna().sum()"
   ]
  },
  {
   "attachments": {},
   "cell_type": "markdown",
   "metadata": {},
   "source": [
    "- Колонка `gap` содержит значение азимутального угла в градусах. Переведите эти значения в радианы, используя  `apply` или `map`. Проверьте, что значения в соответствующей колонке действительно изменились."
   ]
  },
  {
   "cell_type": "code",
   "execution_count": 10,
   "metadata": {},
   "outputs": [
    {
     "data": {
      "text/html": [
       "<div>\n",
       "<style scoped>\n",
       "    .dataframe tbody tr th:only-of-type {\n",
       "        vertical-align: middle;\n",
       "    }\n",
       "\n",
       "    .dataframe tbody tr th {\n",
       "        vertical-align: top;\n",
       "    }\n",
       "\n",
       "    .dataframe thead th {\n",
       "        text-align: right;\n",
       "    }\n",
       "</style>\n",
       "<table border=\"1\" class=\"dataframe\">\n",
       "  <thead>\n",
       "    <tr style=\"text-align: right;\">\n",
       "      <th></th>\n",
       "      <th>title</th>\n",
       "      <th>magnitude</th>\n",
       "      <th>date_time</th>\n",
       "      <th>cdi</th>\n",
       "      <th>mmi</th>\n",
       "      <th>alert</th>\n",
       "      <th>tsunami</th>\n",
       "      <th>sig</th>\n",
       "      <th>net</th>\n",
       "      <th>nst</th>\n",
       "      <th>dmin</th>\n",
       "      <th>gap</th>\n",
       "      <th>magType</th>\n",
       "      <th>depth</th>\n",
       "      <th>latitude</th>\n",
       "      <th>longitude</th>\n",
       "      <th>location</th>\n",
       "      <th>continent</th>\n",
       "      <th>country</th>\n",
       "    </tr>\n",
       "  </thead>\n",
       "  <tbody>\n",
       "    <tr>\n",
       "      <th>0</th>\n",
       "      <td>M 7.0 - 18 km SW of Malango, Solomon Islands</td>\n",
       "      <td>7.0</td>\n",
       "      <td>22-11-2022 02:03</td>\n",
       "      <td>8</td>\n",
       "      <td>7</td>\n",
       "      <td>green</td>\n",
       "      <td>1</td>\n",
       "      <td>768</td>\n",
       "      <td>us</td>\n",
       "      <td>117</td>\n",
       "      <td>0.509</td>\n",
       "      <td>0.296706</td>\n",
       "      <td>mww</td>\n",
       "      <td>14.000</td>\n",
       "      <td>-9.7963</td>\n",
       "      <td>159.596</td>\n",
       "      <td>Malango, Solomon Islands</td>\n",
       "      <td>Oceania</td>\n",
       "      <td>Solomon Islands</td>\n",
       "    </tr>\n",
       "    <tr>\n",
       "      <th>1</th>\n",
       "      <td>M 6.9 - 204 km SW of Bengkulu, Indonesia</td>\n",
       "      <td>6.9</td>\n",
       "      <td>18-11-2022 13:37</td>\n",
       "      <td>4</td>\n",
       "      <td>4</td>\n",
       "      <td>green</td>\n",
       "      <td>0</td>\n",
       "      <td>735</td>\n",
       "      <td>us</td>\n",
       "      <td>99</td>\n",
       "      <td>2.229</td>\n",
       "      <td>0.593412</td>\n",
       "      <td>mww</td>\n",
       "      <td>25.000</td>\n",
       "      <td>-4.9559</td>\n",
       "      <td>100.738</td>\n",
       "      <td>Bengkulu, Indonesia</td>\n",
       "      <td>NaN</td>\n",
       "      <td>NaN</td>\n",
       "    </tr>\n",
       "    <tr>\n",
       "      <th>2</th>\n",
       "      <td>M 7.0 -</td>\n",
       "      <td>7.0</td>\n",
       "      <td>12-11-2022 07:09</td>\n",
       "      <td>3</td>\n",
       "      <td>3</td>\n",
       "      <td>green</td>\n",
       "      <td>1</td>\n",
       "      <td>755</td>\n",
       "      <td>us</td>\n",
       "      <td>147</td>\n",
       "      <td>3.125</td>\n",
       "      <td>0.314159</td>\n",
       "      <td>mww</td>\n",
       "      <td>579.000</td>\n",
       "      <td>-20.0508</td>\n",
       "      <td>-178.346</td>\n",
       "      <td>NaN</td>\n",
       "      <td>Oceania</td>\n",
       "      <td>Fiji</td>\n",
       "    </tr>\n",
       "    <tr>\n",
       "      <th>3</th>\n",
       "      <td>M 7.3 - 205 km ESE of Neiafu, Tonga</td>\n",
       "      <td>7.3</td>\n",
       "      <td>11-11-2022 10:48</td>\n",
       "      <td>5</td>\n",
       "      <td>5</td>\n",
       "      <td>green</td>\n",
       "      <td>1</td>\n",
       "      <td>833</td>\n",
       "      <td>us</td>\n",
       "      <td>149</td>\n",
       "      <td>1.865</td>\n",
       "      <td>0.366519</td>\n",
       "      <td>mww</td>\n",
       "      <td>37.000</td>\n",
       "      <td>-19.2918</td>\n",
       "      <td>-172.129</td>\n",
       "      <td>Neiafu, Tonga</td>\n",
       "      <td>NaN</td>\n",
       "      <td>NaN</td>\n",
       "    </tr>\n",
       "    <tr>\n",
       "      <th>4</th>\n",
       "      <td>M 6.6 -</td>\n",
       "      <td>6.6</td>\n",
       "      <td>09-11-2022 10:14</td>\n",
       "      <td>0</td>\n",
       "      <td>2</td>\n",
       "      <td>green</td>\n",
       "      <td>1</td>\n",
       "      <td>670</td>\n",
       "      <td>us</td>\n",
       "      <td>131</td>\n",
       "      <td>4.998</td>\n",
       "      <td>0.471239</td>\n",
       "      <td>mww</td>\n",
       "      <td>624.464</td>\n",
       "      <td>-25.5948</td>\n",
       "      <td>178.278</td>\n",
       "      <td>NaN</td>\n",
       "      <td>NaN</td>\n",
       "      <td>NaN</td>\n",
       "    </tr>\n",
       "  </tbody>\n",
       "</table>\n",
       "</div>"
      ],
      "text/plain": [
       "                                          title  magnitude         date_time   \n",
       "0  M 7.0 - 18 km SW of Malango, Solomon Islands        7.0  22-11-2022 02:03  \\\n",
       "1      M 6.9 - 204 km SW of Bengkulu, Indonesia        6.9  18-11-2022 13:37   \n",
       "2                                      M 7.0 -         7.0  12-11-2022 07:09   \n",
       "3           M 7.3 - 205 km ESE of Neiafu, Tonga        7.3  11-11-2022 10:48   \n",
       "4                                      M 6.6 -         6.6  09-11-2022 10:14   \n",
       "\n",
       "   cdi  mmi  alert  tsunami  sig net  nst   dmin       gap magType    depth   \n",
       "0    8    7  green        1  768  us  117  0.509  0.296706     mww   14.000  \\\n",
       "1    4    4  green        0  735  us   99  2.229  0.593412     mww   25.000   \n",
       "2    3    3  green        1  755  us  147  3.125  0.314159     mww  579.000   \n",
       "3    5    5  green        1  833  us  149  1.865  0.366519     mww   37.000   \n",
       "4    0    2  green        1  670  us  131  4.998  0.471239     mww  624.464   \n",
       "\n",
       "   latitude  longitude                  location continent          country  \n",
       "0   -9.7963    159.596  Malango, Solomon Islands   Oceania  Solomon Islands  \n",
       "1   -4.9559    100.738       Bengkulu, Indonesia       NaN              NaN  \n",
       "2  -20.0508   -178.346                       NaN   Oceania             Fiji  \n",
       "3  -19.2918   -172.129             Neiafu, Tonga       NaN              NaN  \n",
       "4  -25.5948    178.278                       NaN       NaN              NaN  "
      ]
     },
     "execution_count": 10,
     "metadata": {},
     "output_type": "execute_result"
    }
   ],
   "source": [
    "df_orig[\"gap\"] = df_orig[\"gap\"].map(lambda x: np.radians(x))\n",
    "df_orig.head()"
   ]
  },
  {
   "attachments": {},
   "cell_type": "markdown",
   "metadata": {},
   "source": [
    "- Найдите самую северную и самую южную точки, в которых было зафиксировано землетрясение"
   ]
  },
  {
   "cell_type": "code",
   "execution_count": 11,
   "metadata": {},
   "outputs": [
    {
     "name": "stdout",
     "output_type": "stream",
     "text": [
      "Самая северная точка:\n",
      "                                                  title  magnitude   \n",
      "149  M 6.7 - 120 km NW of Olonkinbyen, Svalbard and...        6.7  \\\n",
      "\n",
      "            date_time  cdi  mmi  alert  tsunami  sig net  nst   dmin   \n",
      "149  09-11-2018 01:49    3    4  green        1  693  us    0  7.853  \\\n",
      "\n",
      "          gap magType  depth  latitude  longitude   \n",
      "149  0.331613     mww   10.0   71.6312   -11.2431  \\\n",
      "\n",
      "                                location continent country  \n",
      "149  Olonkinbyen, Svalbard and Jan Mayen       NaN     NaN  \n",
      "Самая южная точка:\n",
      "                              title  magnitude         date_time  cdi  mmi   \n",
      "79  M 6.9 - South Shetland Islands        6.9  23-01-2021 23:36    9    5  \\\n",
      "\n",
      "    alert  tsunami  sig net  nst  dmin       gap magType  depth  latitude   \n",
      "79  green        1  739  us    0  1.55  0.279253     mww   15.0  -61.8484  \\\n",
      "\n",
      "    longitude                location continent     country  \n",
      "79    -55.559  South Shetland Islands       NaN  Antarctica  \n"
     ]
    }
   ],
   "source": [
    "print(\"Самая северная точка:\\n\", df_orig.loc[df_orig[\"latitude\"] == df_orig[\"latitude\"].max()])\n",
    "print(\"Самая южная точка:\\n\", df_orig.loc[df_orig[\"latitude\"] == df_orig[\"latitude\"].min()])"
   ]
  },
  {
   "attachments": {},
   "cell_type": "markdown",
   "metadata": {},
   "source": [
    "- В какой стране наблюдалось больше всего землетрясений?"
   ]
  },
  {
   "cell_type": "code",
   "execution_count": 12,
   "metadata": {},
   "outputs": [
    {
     "name": "stdout",
     "output_type": "stream",
     "text": [
      "Страна в которое больше всего наблюдалось землетрясений:  Indonesia\n"
     ]
    }
   ],
   "source": [
    "print(\"Страна в которое больше всего наблюдалось землетрясений: \", df_orig[\"country\"].value_counts().idxmax())"
   ]
  },
  {
   "attachments": {},
   "cell_type": "markdown",
   "metadata": {},
   "source": [
    "- В исходном датасете есть колонка `date_time`, в которой записаны дата и время события. Создайте две новые колонки `date` и `time`, в которых отдельно будет содержаться информация о дате и времени землетрясения. После этого удалите исходную колонку `date_time` из датафрейма."
   ]
  },
  {
   "cell_type": "code",
   "execution_count": 13,
   "metadata": {},
   "outputs": [
    {
     "data": {
      "text/html": [
       "<div>\n",
       "<style scoped>\n",
       "    .dataframe tbody tr th:only-of-type {\n",
       "        vertical-align: middle;\n",
       "    }\n",
       "\n",
       "    .dataframe tbody tr th {\n",
       "        vertical-align: top;\n",
       "    }\n",
       "\n",
       "    .dataframe thead th {\n",
       "        text-align: right;\n",
       "    }\n",
       "</style>\n",
       "<table border=\"1\" class=\"dataframe\">\n",
       "  <thead>\n",
       "    <tr style=\"text-align: right;\">\n",
       "      <th></th>\n",
       "      <th>title</th>\n",
       "      <th>magnitude</th>\n",
       "      <th>cdi</th>\n",
       "      <th>mmi</th>\n",
       "      <th>alert</th>\n",
       "      <th>tsunami</th>\n",
       "      <th>sig</th>\n",
       "      <th>net</th>\n",
       "      <th>nst</th>\n",
       "      <th>dmin</th>\n",
       "      <th>gap</th>\n",
       "      <th>magType</th>\n",
       "      <th>depth</th>\n",
       "      <th>latitude</th>\n",
       "      <th>longitude</th>\n",
       "      <th>location</th>\n",
       "      <th>continent</th>\n",
       "      <th>country</th>\n",
       "      <th>date</th>\n",
       "      <th>time</th>\n",
       "    </tr>\n",
       "  </thead>\n",
       "  <tbody>\n",
       "    <tr>\n",
       "      <th>0</th>\n",
       "      <td>M 7.0 - 18 km SW of Malango, Solomon Islands</td>\n",
       "      <td>7.0</td>\n",
       "      <td>8</td>\n",
       "      <td>7</td>\n",
       "      <td>green</td>\n",
       "      <td>1</td>\n",
       "      <td>768</td>\n",
       "      <td>us</td>\n",
       "      <td>117</td>\n",
       "      <td>0.509</td>\n",
       "      <td>0.296706</td>\n",
       "      <td>mww</td>\n",
       "      <td>14.000</td>\n",
       "      <td>-9.7963</td>\n",
       "      <td>159.596</td>\n",
       "      <td>Malango, Solomon Islands</td>\n",
       "      <td>Oceania</td>\n",
       "      <td>Solomon Islands</td>\n",
       "      <td>22-11-2022</td>\n",
       "      <td>02:03</td>\n",
       "    </tr>\n",
       "    <tr>\n",
       "      <th>1</th>\n",
       "      <td>M 6.9 - 204 km SW of Bengkulu, Indonesia</td>\n",
       "      <td>6.9</td>\n",
       "      <td>4</td>\n",
       "      <td>4</td>\n",
       "      <td>green</td>\n",
       "      <td>0</td>\n",
       "      <td>735</td>\n",
       "      <td>us</td>\n",
       "      <td>99</td>\n",
       "      <td>2.229</td>\n",
       "      <td>0.593412</td>\n",
       "      <td>mww</td>\n",
       "      <td>25.000</td>\n",
       "      <td>-4.9559</td>\n",
       "      <td>100.738</td>\n",
       "      <td>Bengkulu, Indonesia</td>\n",
       "      <td>NaN</td>\n",
       "      <td>NaN</td>\n",
       "      <td>18-11-2022</td>\n",
       "      <td>13:37</td>\n",
       "    </tr>\n",
       "    <tr>\n",
       "      <th>2</th>\n",
       "      <td>M 7.0 -</td>\n",
       "      <td>7.0</td>\n",
       "      <td>3</td>\n",
       "      <td>3</td>\n",
       "      <td>green</td>\n",
       "      <td>1</td>\n",
       "      <td>755</td>\n",
       "      <td>us</td>\n",
       "      <td>147</td>\n",
       "      <td>3.125</td>\n",
       "      <td>0.314159</td>\n",
       "      <td>mww</td>\n",
       "      <td>579.000</td>\n",
       "      <td>-20.0508</td>\n",
       "      <td>-178.346</td>\n",
       "      <td>NaN</td>\n",
       "      <td>Oceania</td>\n",
       "      <td>Fiji</td>\n",
       "      <td>12-11-2022</td>\n",
       "      <td>07:09</td>\n",
       "    </tr>\n",
       "    <tr>\n",
       "      <th>3</th>\n",
       "      <td>M 7.3 - 205 km ESE of Neiafu, Tonga</td>\n",
       "      <td>7.3</td>\n",
       "      <td>5</td>\n",
       "      <td>5</td>\n",
       "      <td>green</td>\n",
       "      <td>1</td>\n",
       "      <td>833</td>\n",
       "      <td>us</td>\n",
       "      <td>149</td>\n",
       "      <td>1.865</td>\n",
       "      <td>0.366519</td>\n",
       "      <td>mww</td>\n",
       "      <td>37.000</td>\n",
       "      <td>-19.2918</td>\n",
       "      <td>-172.129</td>\n",
       "      <td>Neiafu, Tonga</td>\n",
       "      <td>NaN</td>\n",
       "      <td>NaN</td>\n",
       "      <td>11-11-2022</td>\n",
       "      <td>10:48</td>\n",
       "    </tr>\n",
       "    <tr>\n",
       "      <th>4</th>\n",
       "      <td>M 6.6 -</td>\n",
       "      <td>6.6</td>\n",
       "      <td>0</td>\n",
       "      <td>2</td>\n",
       "      <td>green</td>\n",
       "      <td>1</td>\n",
       "      <td>670</td>\n",
       "      <td>us</td>\n",
       "      <td>131</td>\n",
       "      <td>4.998</td>\n",
       "      <td>0.471239</td>\n",
       "      <td>mww</td>\n",
       "      <td>624.464</td>\n",
       "      <td>-25.5948</td>\n",
       "      <td>178.278</td>\n",
       "      <td>NaN</td>\n",
       "      <td>NaN</td>\n",
       "      <td>NaN</td>\n",
       "      <td>09-11-2022</td>\n",
       "      <td>10:14</td>\n",
       "    </tr>\n",
       "  </tbody>\n",
       "</table>\n",
       "</div>"
      ],
      "text/plain": [
       "                                          title  magnitude  cdi  mmi  alert   \n",
       "0  M 7.0 - 18 km SW of Malango, Solomon Islands        7.0    8    7  green  \\\n",
       "1      M 6.9 - 204 km SW of Bengkulu, Indonesia        6.9    4    4  green   \n",
       "2                                      M 7.0 -         7.0    3    3  green   \n",
       "3           M 7.3 - 205 km ESE of Neiafu, Tonga        7.3    5    5  green   \n",
       "4                                      M 6.6 -         6.6    0    2  green   \n",
       "\n",
       "   tsunami  sig net  nst   dmin       gap magType    depth  latitude   \n",
       "0        1  768  us  117  0.509  0.296706     mww   14.000   -9.7963  \\\n",
       "1        0  735  us   99  2.229  0.593412     mww   25.000   -4.9559   \n",
       "2        1  755  us  147  3.125  0.314159     mww  579.000  -20.0508   \n",
       "3        1  833  us  149  1.865  0.366519     mww   37.000  -19.2918   \n",
       "4        1  670  us  131  4.998  0.471239     mww  624.464  -25.5948   \n",
       "\n",
       "   longitude                  location continent          country        date   \n",
       "0    159.596  Malango, Solomon Islands   Oceania  Solomon Islands  22-11-2022  \\\n",
       "1    100.738       Bengkulu, Indonesia       NaN              NaN  18-11-2022   \n",
       "2   -178.346                       NaN   Oceania             Fiji  12-11-2022   \n",
       "3   -172.129             Neiafu, Tonga       NaN              NaN  11-11-2022   \n",
       "4    178.278                       NaN       NaN              NaN  09-11-2022   \n",
       "\n",
       "    time  \n",
       "0  02:03  \n",
       "1  13:37  \n",
       "2  07:09  \n",
       "3  10:48  \n",
       "4  10:14  "
      ]
     },
     "execution_count": 13,
     "metadata": {},
     "output_type": "execute_result"
    }
   ],
   "source": [
    "df_orig[[\"date\", \"time\"]] = df_orig[\"date_time\"].str.split(' ', expand=True)\n",
    "df_orig = df_orig.drop([\"date_time\"], axis=1)\n",
    "\n",
    "df_orig.head()"
   ]
  },
  {
   "attachments": {},
   "cell_type": "markdown",
   "metadata": {},
   "source": [
    "### Перед отправкой сохраните ноутбук с именем в следующем формате: **01_Фамилия.ipynb**"
   ]
  },
  {
   "cell_type": "markdown",
   "metadata": {},
   "source": []
  }
 ],
 "metadata": {
  "kernelspec": {
   "display_name": "Python 3",
   "language": "python",
   "name": "python3"
  },
  "language_info": {
   "codemirror_mode": {
    "name": "ipython",
    "version": 3
   },
   "file_extension": ".py",
   "mimetype": "text/x-python",
   "name": "python",
   "nbconvert_exporter": "python",
   "pygments_lexer": "ipython3",
   "version": "3.10.10"
  },
  "orig_nbformat": 4
 },
 "nbformat": 4,
 "nbformat_minor": 2
}
